{
  "nbformat": 4,
  "nbformat_minor": 0,
  "metadata": {
    "colab": {
      "provenance": []
    },
    "kernelspec": {
      "name": "python3",
      "display_name": "Python 3"
    },
    "language_info": {
      "name": "python"
    }
  },
  "cells": [
    {
      "cell_type": "markdown",
      "source": [
        "# **Statistics Basics**"
      ],
      "metadata": {
        "id": "Af-VlHD9RspL"
      }
    },
    {
      "cell_type": "markdown",
      "source": [
        "1. What is statistics, and why is it important?\n",
        "  -  Statistics is the branch of mathematics that deals with collecting, organizing, analyzing, interpreting, and presenting data.\n",
        "It is important because it helps in making informed decisions, identifying trends, and understanding variability in data across various fields like business, healthcare, economics, and science.\n",
        "\n",
        "2.   What are the two main types of statistics?\n",
        "   -  Descriptive Statistics – Summarizes and describes features of a dataset.\n",
        "\n",
        "   - Inferential Statistics – Makes predictions or inferences about a population based on a sample.\n",
        "\n",
        "3. What are descriptive statistics?\n",
        "  -   These are methods used to summarize and describe the main features of a dataset using:\n",
        "\n",
        "     - Measures of central tendency (mean, median, mode)\n",
        "\n",
        "     - Measures of dispersion (range, variance, standard deviation)\n",
        "\n",
        "     - Graphs (histograms, box plots, pie charts)\n",
        "4. What is inferential statistics?\n",
        "   -  Inferential statistics involves using sample data to make generalizations or predictions about a larger population.\n",
        "  It includes techniques like:\n",
        "\n",
        "      - Hypothesis testing\n",
        "\n",
        "      - Confidence intervals\n",
        "\n",
        "      - Regression analysis\n",
        "\n",
        "      - ANOVA\n",
        "5. What is sampling in statistics?\n",
        "   -  Sampling is the process of selecting a subset of individuals from a population to estimate characteristics of the whole population. It saves time, cost, and effort compared to studying the entire population.\n",
        "\n",
        "6. What are the different types of sampling methods?\n",
        "   -  Random Sampling:\n",
        "\n",
        "     - Simple Random\n",
        "\n",
        "     - Stratified\n",
        "\n",
        "      - Systematic\n",
        "\n",
        "      - Cluster\n",
        "\n",
        "  - Non-Random Sampling:\n",
        "\n",
        "     - Convenience\n",
        "\n",
        "     - Judgmental\n",
        "\n",
        "     - Snowball\n",
        "\n",
        "     - Quota\n",
        "7. What is the difference between random and non-random sampling?\n",
        "   -  Random Sampling: Every member of the population has a known and equal chance of being selected (reduces bias).\n",
        "\n",
        "   - Non-Random Sampling: Selection is based on factors like convenience or judgment (may introduce bias).\n",
        "\n",
        "8. Define and give examples of qualitative and quantitative data.\n",
        "  -  Qualitative Data (Categorical): Non-numeric data (e.g., gender, color, city names).\n",
        "\n",
        "  - Quantitative Data (Numerical): Numeric data (e.g., height, weight, age, salary).\n",
        "9. What are the different types of data in statistics?\n",
        "  - Qualitative (Categorical):\n",
        "\n",
        "    - Nominal\n",
        "\n",
        "     - Ordinal\n",
        "\n",
        " - Quantitative (Numerical):\n",
        "\n",
        "    - Discrete\n",
        "\n",
        "    - Continuous\n",
        "10. Explain nominal, ordinal, interval, and ratio levels of measurement.\n",
        "   - Nominal: Categories with no order (e.g., colors, gender)\n",
        "\n",
        "   - Ordinal: Categories with order (e.g., rankings, satisfaction levels)\n",
        "\n",
        "   - Interval: Numeric data with equal intervals, no true zero (e.g., temperature in Celsius)\n",
        "\n",
        "  - Ratio: Numeric data with equal intervals and true zero (e.g., weight, height, age)\n",
        "11. What is the measure of central tendency?\n",
        "   -  It indicates the center or typical value of a dataset and includes:\n",
        "\n",
        "       - Mean\n",
        "\n",
        "      - Median\n",
        "\n",
        "      - Mode\n",
        "12. Define mean, median, and mode.\n",
        "    -  Mean: Average (sum of values ÷ number of values)\n",
        "\n",
        "    - Median: Middle value when data is sorted\n",
        "\n",
        "    - Mode: Most frequently occurring value\n",
        "13. What is the significance of the measure of central tendency?\n",
        "  -  It helps to summarize a large dataset with a single representative value, aiding comparisons and analysis.\n",
        "14. What is variance, and how is it calculated?\n",
        "   - Variance measures the average squared deviation of each data point from the mean.\n",
        "Formula:\n",
        "      -   Variance=\n",
        "n\n",
        "/\n",
        "1\n",
        "​\n",
        " ∑(x\n",
        "i\n",
        "​\n",
        " −μ)\n",
        "2\n",
        "15. What is standard deviation, and why is it important?\n",
        "  -  Standard deviation is the square root of variance and measures the spread of data from the mean.\n",
        "It’s important because it shows how much data varies and helps in understanding data consistency.\n",
        "16.  Define and explain the term range in statistics.\n",
        "  -  Range is the difference between the maximum and minimum values in a dataset.\n",
        "Formula:\n",
        "\n",
        "       -  Range=Max−Min\n",
        "\n",
        "17. What is the difference between variance and standard deviation?\n",
        "   -  Variance: Average of squared deviations from the mean (unit squared).\n",
        "\n",
        "  - Standard Deviation: Square root of variance (same unit as data), easier to interpret.\n",
        "18. What is skewness in a dataset?\n",
        "   -   Skewness measures the asymmetry of the data distribution.\n",
        "\n",
        "      - Positive Skew: Tail on the right\n",
        "\n",
        "      - Negative Skew: Tail on the left\n",
        "19. What does it mean if a dataset is positively or negatively skewed?\n",
        "   -  Positively Skewed: Mean > Median (long tail to the right)\n",
        "\n",
        "    - Negatively Skewed: Mean < Median (long tail to the left)\n",
        "20. Define and explain kurtosis.\n",
        "   -   Kurtosis measures the tailedness (peak and tail thickness) of the data distribution.\n",
        "\n",
        "     -  Leptokurtic: Heavy tails, sharp peak\n",
        "\n",
        "     -  Platykurtic: Light tails, flat peak\n",
        "\n",
        "    - Mesokurtic: Normal distribution\n",
        "21. What is the purpose of covariance?\n",
        "  -  Covariance indicates the direction of the linear relationship between two variables:\n",
        "\n",
        "     -  Positive: variables move in same direction\n",
        "\n",
        "      - Negative: variables move in opposite directions\n",
        "22. What does correlation measure in statistics?\n",
        "   -  Correlation measures both the strength and direction of a linear relationship between two variables, ranging from -1 to +1.\n",
        "23. What is the difference between covariance and correlation?\n",
        "\n",
        "    - Aspect: Scale\n",
        "    - \tCovariance: Not standardized\n",
        "    - \tCorrelation: Standardized (-1 to +1)\n",
        "\n",
        "   -  Aspect: Interpretation\n",
        "    - \tCovariance: Harder to interpret\n",
        "    - \tCorrelation: Easier to interpret\n",
        "\n",
        "    -  Aspect: Unit\n",
        "    - \tCovariance: Product of units\n",
        "    - \tCorrelation:  Unitless\n",
        "\n",
        "24. What are some real-world applications of statistics?\n",
        "   -  Healthcare: Drug effectiveness, disease prediction\n",
        "\n",
        "  - Business: Sales forecasting, customer segmentation\n",
        "\n",
        "   - Government: Census, policy planning\n",
        "\n",
        "  - Sports: Player performance analysis\n",
        "\n",
        "   - Technology: Data science, AI, machine learning\n"
      ],
      "metadata": {
        "id": "jKLthoxqRvvx"
      }
    },
    {
      "cell_type": "markdown",
      "source": [
        "## **Practical** **Question**"
      ],
      "metadata": {
        "id": "ggkblzgdZ8Dl"
      }
    },
    {
      "cell_type": "markdown",
      "source": [
        "1. How do you calculate the mean, median, and mode of a dataset?"
      ],
      "metadata": {
        "id": "319FXcfFa0tG"
      }
    },
    {
      "cell_type": "code",
      "source": [
        "import numpy as np\n",
        "from scipy import stats\n",
        "\n",
        "# Sample dataset\n",
        "data = [10, 20, 20, 30, 40, 40, 40, 50, 60]\n",
        "\n",
        "# Mean\n",
        "mean = np.mean(data)\n",
        "print(\"Mean:\", mean)\n",
        "\n",
        "# Median\n",
        "median = np.median(data)\n",
        "print(\"Median:\", median)\n",
        "\n",
        "# Mode\n",
        "mode = stats.mode(data, keepdims=True)\n",
        "print(\"Mode:\", mode.mode[0])\n"
      ],
      "metadata": {
        "colab": {
          "base_uri": "https://localhost:8080/"
        },
        "id": "AA6uDI95iDdM",
        "outputId": "efdf3a84-1d70-4c9d-baa3-57e97b56af69"
      },
      "execution_count": 25,
      "outputs": [
        {
          "output_type": "stream",
          "name": "stdout",
          "text": [
            "Mean: 34.44444444444444\n",
            "Median: 40.0\n",
            "Mode: 40\n"
          ]
        }
      ]
    },
    {
      "cell_type": "markdown",
      "source": [
        "2. Write a Python program to compute the variance and standard deviation of a dataset?"
      ],
      "metadata": {
        "id": "PPrKvKSecbgW"
      }
    },
    {
      "cell_type": "code",
      "source": [
        "import statistics\n",
        "\n",
        "data = [10, 20, 30, 40, 50]\n",
        "\n",
        "variance = statistics.variance(data)\n",
        "std_dev = statistics.stdev(data)\n",
        "\n",
        "print(\"Variance:\", variance)\n",
        "print(\"Standard Deviation:\", std_dev)\n"
      ],
      "metadata": {
        "colab": {
          "base_uri": "https://localhost:8080/"
        },
        "id": "UWUBkbANc8vm",
        "outputId": "5649ab67-c430-4ad6-8ac5-fcf31e7cacea"
      },
      "execution_count": 1,
      "outputs": [
        {
          "output_type": "stream",
          "name": "stdout",
          "text": [
            "Variance: 250\n",
            "Standard Deviation: 15.811388300841896\n"
          ]
        }
      ]
    },
    {
      "cell_type": "markdown",
      "source": [
        "3. Create a dataset and classify it into nominal, ordinal, interval, and ratio types?"
      ],
      "metadata": {
        "id": "etw-VCz_dWBJ"
      }
    },
    {
      "cell_type": "code",
      "source": [
        "# Nominal Data (no natural order)\n",
        "nominal = ['Red', 'Blue', 'Green', 'Yellow']\n",
        "\n",
        "# Ordinal Data (with meaningful order, no fixed intervals)\n",
        "ordinal = ['Low', 'Medium', 'High', 'Very High']\n",
        "\n",
        "# Interval Data (ordered with equal intervals, no true zero)\n",
        "interval = [10, 20, 30, 40]  # e.g., temperature in Celsius\n",
        "\n",
        "# Ratio Data (has a true zero, allows for all math operations)\n",
        "ratio = [5, 10, 15, 20]  # e.g., height, weight, age\n",
        "\n",
        "print(\"Nominal:\", nominal)\n",
        "print(\"Ordinal:\", ordinal)\n",
        "print(\"Interval:\", interval)\n",
        "print(\"Ratio:\", ratio)\n"
      ],
      "metadata": {
        "colab": {
          "base_uri": "https://localhost:8080/"
        },
        "id": "hefiQqiZdfw4",
        "outputId": "872ed554-7061-47b2-a820-3cbc7658099e"
      },
      "execution_count": 2,
      "outputs": [
        {
          "output_type": "stream",
          "name": "stdout",
          "text": [
            "Nominal: ['Red', 'Blue', 'Green', 'Yellow']\n",
            "Ordinal: ['Low', 'Medium', 'High', 'Very High']\n",
            "Interval: [10, 20, 30, 40]\n",
            "Ratio: [5, 10, 15, 20]\n"
          ]
        }
      ]
    },
    {
      "cell_type": "markdown",
      "source": [
        "4. Implement sampling techniques like random sampling and stratified sampling."
      ],
      "metadata": {
        "id": "LrL0Jq_pdj1f"
      }
    },
    {
      "cell_type": "code",
      "source": [
        "import pandas as pd\n",
        "import numpy as np\n",
        "from sklearn.model_selection import train_test_split\n",
        "\n",
        "# Sample dataset\n",
        "data = pd.DataFrame({\n",
        "    'ID': range(1, 21),\n",
        "    'Group': ['A']*10 + ['B']*10,\n",
        "    'Value': np.random.randint(10, 100, 20)\n",
        "})\n",
        "\n",
        "# Random Sampling\n",
        "random_sample = data.sample(n=5, random_state=1)\n",
        "\n",
        "# Stratified Sampling\n",
        "stratified_sample, _ = train_test_split(data, test_size=0.75, stratify=data['Group'], random_state=1)\n",
        "\n",
        "print(\"Random Sample:\\n\", random_sample)\n",
        "print(\"\\nStratified Sample:\\n\", stratified_sample)\n"
      ],
      "metadata": {
        "colab": {
          "base_uri": "https://localhost:8080/"
        },
        "id": "CST3bmR9dsc_",
        "outputId": "4b064205-4fef-439c-f048-d994f9cf4e85"
      },
      "execution_count": 3,
      "outputs": [
        {
          "output_type": "stream",
          "name": "stdout",
          "text": [
            "Random Sample:\n",
            "     ID Group  Value\n",
            "3    4     A     66\n",
            "16  17     B     20\n",
            "6    7     A     14\n",
            "10  11     B     40\n",
            "2    3     A     26\n",
            "\n",
            "Stratified Sample:\n",
            "     ID Group  Value\n",
            "11  12     B     82\n",
            "2    3     A     26\n",
            "4    5     A     48\n",
            "3    4     A     66\n",
            "17  18     B     77\n"
          ]
        }
      ]
    },
    {
      "cell_type": "markdown",
      "source": [
        "5. Write a Python function to calculate the range of a dataset."
      ],
      "metadata": {
        "id": "aVzuU-m6dxl_"
      }
    },
    {
      "cell_type": "code",
      "source": [
        "def calculate_range(data):\n",
        "    return max(data) - min(data)\n",
        "\n",
        "data = [4, 10, 15, 7, 20, 9]\n",
        "print(\"Range:\", calculate_range(data))\n"
      ],
      "metadata": {
        "colab": {
          "base_uri": "https://localhost:8080/"
        },
        "id": "fr1OQbrjd_BX",
        "outputId": "478df1e7-9c8e-4a3c-d67c-ce4635b693b4"
      },
      "execution_count": 4,
      "outputs": [
        {
          "output_type": "stream",
          "name": "stdout",
          "text": [
            "Range: 16\n"
          ]
        }
      ]
    },
    {
      "cell_type": "markdown",
      "source": [
        "6. Create a dataset and plot its histogram to visualize skewness."
      ],
      "metadata": {
        "id": "X-Ga3IFueE6y"
      }
    },
    {
      "cell_type": "code",
      "source": [
        "import matplotlib.pyplot as plt\n",
        "\n",
        "# Sample dataset (positively skewed)\n",
        "data = [1, 2, 2, 3, 3, 4, 4, 5, 10, 12, 15, 18]\n",
        "\n",
        "# Plotting the histogram\n",
        "plt.hist(data, bins=8, color='skyblue', edgecolor='black')\n",
        "plt.title('Histogram to Visualize Skewness')\n",
        "plt.xlabel('Data Values')\n",
        "plt.ylabel('Frequency')\n",
        "plt.grid(True)\n",
        "plt.show()\n"
      ],
      "metadata": {
        "colab": {
          "base_uri": "https://localhost:8080/",
          "height": 472
        },
        "id": "wKWwcX4_eKLO",
        "outputId": "90b993d5-00c8-4a24-a1e5-91007c4367fd"
      },
      "execution_count": 5,
      "outputs": [
        {
          "output_type": "display_data",
          "data": {
            "text/plain": [
              "<Figure size 640x480 with 1 Axes>"
            ],
            "image/png": "[encoded data removed]"
          },
          "metadata": {}
        }
      ]
    },
    {
      "cell_type": "markdown",
      "source": [
        "7. Calculate skewness and kurtosis of a dataset using Python libraries."
      ],
      "metadata": {
        "id": "HeykqAbGeKip"
      }
    },
    {
      "cell_type": "code",
      "source": [
        "from scipy.stats import skew, kurtosis\n",
        "\n",
        "data = [2, 3, 3, 4, 5, 6, 7, 8, 12, 18]\n",
        "\n",
        "print(\"Skewness:\", skew(data))\n",
        "print(\"Kurtosis:\", kurtosis(data))\n"
      ],
      "metadata": {
        "colab": {
          "base_uri": "https://localhost:8080/"
        },
        "id": "hcqk3S_6eLoL",
        "outputId": "66d5fa28-9b66-4bd5-97f8-e8650c514a55"
      },
      "execution_count": 6,
      "outputs": [
        {
          "output_type": "stream",
          "name": "stdout",
          "text": [
            "Skewness: 1.2793825977106368\n",
            "Kurtosis: 0.6935080557958471\n"
          ]
        }
      ]
    },
    {
      "cell_type": "markdown",
      "source": [
        "8. Generate a dataset and demonstrate positive and negative skewness."
      ],
      "metadata": {
        "id": "80jcmnC7eL55"
      }
    },
    {
      "cell_type": "code",
      "source": [
        "import numpy as np\n",
        "import matplotlib.pyplot as plt\n",
        "\n",
        "# Positive skewed data\n",
        "positive_skew = np.random.exponential(scale=2, size=1000)\n",
        "\n",
        "# Negative skewed data (invert the positive skew)\n",
        "negative_skew = -np.random.exponential(scale=2, size=1000)\n",
        "\n",
        "# Plotting\n",
        "plt.figure(figsize=(12, 5))\n",
        "\n",
        "plt.subplot(1, 2, 1)\n",
        "plt.hist(positive_skew, bins=30, color='orange', edgecolor='black')\n",
        "plt.title('Positively Skewed')\n",
        "\n",
        "plt.subplot(1, 2, 2)\n",
        "plt.hist(negative_skew, bins=30, color='purple', edgecolor='black')\n",
        "plt.title('Negatively Skewed')\n",
        "\n",
        "plt.tight_layout()\n",
        "plt.show()\n"
      ],
      "metadata": {
        "colab": {
          "base_uri": "https://localhost:8080/",
          "height": 507
        },
        "id": "I_ArEYPOeNRl",
        "outputId": "47b10f11-8fb7-4215-f3fd-dc7ca2cc9637"
      },
      "execution_count": 7,
      "outputs": [
        {
          "output_type": "display_data",
          "data": {
            "text/plain": [
              "<Figure size 1200x500 with 2 Axes>"
            ],
            "image/png": "[encoded data removed]"
          },
          "metadata": {}
        }
      ]
    },
    {
      "cell_type": "markdown",
      "source": [
        "9. Write a Python script to calculate covariance between two datasets."
      ],
      "metadata": {
        "id": "dUfYQeqpeNkD"
      }
    },
    {
      "cell_type": "code",
      "source": [
        "import numpy as np\n",
        "\n",
        "x = [2, 4, 6, 8, 10]\n",
        "y = [1, 3, 5, 7, 9]\n",
        "\n",
        "cov_matrix = np.cov(x, y, bias=False)\n",
        "covariance = cov_matrix[0, 1]\n",
        "\n",
        "print(\"Covariance between x and y:\", covariance)\n"
      ],
      "metadata": {
        "colab": {
          "base_uri": "https://localhost:8080/"
        },
        "id": "D6BLMBuoeOv1",
        "outputId": "a1dfe6a8-7795-483d-fd05-ae1fc754e876"
      },
      "execution_count": 8,
      "outputs": [
        {
          "output_type": "stream",
          "name": "stdout",
          "text": [
            "Covariance between x and y: 10.0\n"
          ]
        }
      ]
    },
    {
      "cell_type": "markdown",
      "source": [
        "10. Write a Python script to calculate the correlation coefficient between two datasets."
      ],
      "metadata": {
        "id": "pvTRY6Q-ePDE"
      }
    },
    {
      "cell_type": "code",
      "source": [
        "import numpy as np\n",
        "\n",
        "x = [2, 4, 6, 8, 10]\n",
        "y = [1, 3, 5, 7, 9]\n",
        "\n",
        "correlation_matrix = np.corrcoef(x, y)\n",
        "correlation_coefficient = correlation_matrix[0, 1]\n",
        "\n",
        "print(\"Correlation Coefficient between x and y:\", correlation_coefficient)\n"
      ],
      "metadata": {
        "colab": {
          "base_uri": "https://localhost:8080/"
        },
        "id": "CKk5KpfSeQi6",
        "outputId": "3f9bd472-7547-4c90-a6cc-5dca3500f860"
      },
      "execution_count": 9,
      "outputs": [
        {
          "output_type": "stream",
          "name": "stdout",
          "text": [
            "Correlation Coefficient between x and y: 0.9999999999999999\n"
          ]
        }
      ]
    },
    {
      "cell_type": "markdown",
      "source": [
        "11. Create a scatter plot to visualize the relationship between two variables."
      ],
      "metadata": {
        "id": "ya8lBBjKeQ5R"
      }
    },
    {
      "cell_type": "code",
      "source": [
        "import matplotlib.pyplot as plt\n",
        "\n",
        "x = [2, 4, 6, 8, 10]\n",
        "y = [1, 3, 5, 7, 9]\n",
        "\n",
        "plt.scatter(x, y, color='blue')\n",
        "plt.title(\"Scatter Plot of X vs Y\")\n",
        "plt.xlabel(\"X\")\n",
        "plt.ylabel(\"Y\")\n",
        "plt.grid(True)\n",
        "plt.show()\n"
      ],
      "metadata": {
        "colab": {
          "base_uri": "https://localhost:8080/",
          "height": 472
        },
        "id": "oWizF7NBeR1c",
        "outputId": "93d6a7b9-0784-4eaf-dbbd-d948156c3ee3"
      },
      "execution_count": 10,
      "outputs": [
        {
          "output_type": "display_data",
          "data": {
            "text/plain": [
              "<Figure size 640x480 with 1 Axes>"
            ],
            "image/png": "[encoded data removed]"
          },
          "metadata": {}
        }
      ]
    },
    {
      "cell_type": "markdown",
      "source": [
        "12. Implement and compare simple random sampling and systematic sampling."
      ],
      "metadata": {
        "id": "EA_82UBueSHb"
      }
    },
    {
      "cell_type": "code",
      "source": [
        "import numpy as np\n",
        "import pandas as pd\n",
        "\n",
        "# Original dataset\n",
        "data = pd.DataFrame({'ID': range(1, 101)})\n",
        "\n",
        "# Simple Random Sampling\n",
        "simple_random_sample = data.sample(n=10)\n",
        "\n",
        "# Systematic Sampling\n",
        "k = len(data) // 10\n",
        "systematic_sample = data.iloc[::k][:10]\n",
        "\n",
        "print(\"Simple Random Sample:\\n\", simple_random_sample.sort_values(by='ID').reset_index(drop=True))\n",
        "print(\"\\nSystematic Sample:\\n\", systematic_sample.reset_index(drop=True))\n"
      ],
      "metadata": {
        "colab": {
          "base_uri": "https://localhost:8080/"
        },
        "id": "ahowX0HBeTIP",
        "outputId": "4ce191db-2df8-4315-8ae5-d2072fb88a27"
      },
      "execution_count": 11,
      "outputs": [
        {
          "output_type": "stream",
          "name": "stdout",
          "text": [
            "Simple Random Sample:\n",
            "    ID\n",
            "0   3\n",
            "1   9\n",
            "2  15\n",
            "3  31\n",
            "4  44\n",
            "5  55\n",
            "6  63\n",
            "7  73\n",
            "8  84\n",
            "9  97\n",
            "\n",
            "Systematic Sample:\n",
            "    ID\n",
            "0   1\n",
            "1  11\n",
            "2  21\n",
            "3  31\n",
            "4  41\n",
            "5  51\n",
            "6  61\n",
            "7  71\n",
            "8  81\n",
            "9  91\n"
          ]
        }
      ]
    },
    {
      "cell_type": "markdown",
      "source": [
        "13. Calculate the mean, median, and mode of grouped data."
      ],
      "metadata": {
        "id": "IgpnFgNveTbO"
      }
    },
    {
      "cell_type": "code",
      "source": [
        "import pandas as pd\n",
        "from statistics import mean, median, mode\n",
        "\n",
        "# Grouped data (example: frequency distribution)\n",
        "data = {\n",
        "    'Class Interval': ['0-10', '10-20', '20-30', '30-40'],\n",
        "    'Frequency': [5, 8, 12, 5]\n",
        "}\n",
        "\n",
        "df = pd.DataFrame(data)\n",
        "\n",
        "# Midpoint of each class\n",
        "df['Midpoint'] = df['Class Interval'].apply(lambda x: (int(x.split('-')[0]) + int(x.split('-')[1])) / 2)\n",
        "\n",
        "# Mean of grouped data\n",
        "grouped_mean = sum(df['Midpoint'] * df['Frequency']) / sum(df['Frequency'])\n",
        "\n",
        "print(\"Grouped Mean:\", grouped_mean)\n",
        "\n",
        "# For Median and Mode in grouped data, formulas need cumulative frequency and class boundaries\n",
        "# For simplicity, we use ungrouped approximation here\n",
        "ungrouped_data = []\n",
        "for i in range(len(df)):\n",
        "    ungrouped_data.extend([df['Midpoint'][i]] * df['Frequency'][i])\n",
        "\n",
        "print(\"Grouped Median (approx):\", median(ungrouped_data))\n",
        "print(\"Grouped Mode (approx):\", mode(ungrouped_data))\n"
      ],
      "metadata": {
        "colab": {
          "base_uri": "https://localhost:8080/"
        },
        "id": "yBn-NRWkeUYr",
        "outputId": "c2494373-b8ef-46aa-8e25-d251f29a48bc"
      },
      "execution_count": 12,
      "outputs": [
        {
          "output_type": "stream",
          "name": "stdout",
          "text": [
            "Grouped Mean: 20.666666666666668\n",
            "Grouped Median (approx): 25.0\n",
            "Grouped Mode (approx): 25.0\n"
          ]
        }
      ]
    },
    {
      "cell_type": "markdown",
      "source": [
        "14.  Simulate data using Python and calculate its central tendency and dispersion."
      ],
      "metadata": {
        "id": "5KXcjqK9eUsJ"
      }
    },
    {
      "cell_type": "code",
      "source": [
        "import numpy as np\n",
        "import pandas as pd\n",
        "from scipy.stats import kurtosis, skew\n",
        "\n",
        "# Simulate random data\n",
        "np.random.seed(42)\n",
        "data = np.random.normal(loc=50, scale=15, size=100)\n",
        "\n",
        "# Central Tendency\n",
        "mean_val = np.mean(data)\n",
        "median_val = np.median(data)\n",
        "mode_val = pd.Series(data).mode().values[0]\n",
        "\n",
        "# Dispersion\n",
        "std_dev = np.std(data)\n",
        "variance = np.var(data)\n",
        "range_val = np.max(data) - np.min(data)\n",
        "\n",
        "print(\"Mean:\", mean_val)\n",
        "print(\"Median:\", median_val)\n",
        "print(\"Mode:\", mode_val)\n",
        "print(\"Standard Deviation:\", std_dev)\n",
        "print(\"Variance:\", variance)\n",
        "print(\"Range:\", range_val)\n",
        "\n"
      ],
      "metadata": {
        "colab": {
          "base_uri": "https://localhost:8080/"
        },
        "id": "0f6jO3bneVg_",
        "outputId": "a34594be-645d-4c89-cac9-e0ceec63f98b"
      },
      "execution_count": 14,
      "outputs": [
        {
          "output_type": "stream",
          "name": "stdout",
          "text": [
            "Mean: 48.4423022390886\n",
            "Median: 48.09565562330431\n",
            "Mode: 10.703823438653835\n",
            "Standard Deviation: 13.554242649669444\n",
            "Variance: 183.71749380611817\n",
            "Range: 67.08034932898022\n"
          ]
        }
      ]
    },
    {
      "cell_type": "markdown",
      "source": [
        "15. Use NumPy or pandas to summarize a dataset’s descriptive statistics."
      ],
      "metadata": {
        "id": "3lG1d9QSeV01"
      }
    },
    {
      "cell_type": "code",
      "source": [
        "import pandas as pd\n",
        "import numpy as np\n",
        "\n",
        "# Sample dataset\n",
        "data = {\n",
        "    'Math': [70, 80, 90, 60, 50],\n",
        "    'Science': [75, 85, 95, 65, 55],\n",
        "    'English': [72, 78, 85, 68, 58]\n",
        "}\n",
        "df = pd.DataFrame(data)\n",
        "\n",
        "# Descriptive statistics\n",
        "print(df.describe())\n"
      ],
      "metadata": {
        "colab": {
          "base_uri": "https://localhost:8080/"
        },
        "id": "voTM05pieWun",
        "outputId": "2707c736-48f9-4c44-ee55-394e5bb2042c"
      },
      "execution_count": 15,
      "outputs": [
        {
          "output_type": "stream",
          "name": "stdout",
          "text": [
            "            Math    Science   English\n",
            "count   5.000000   5.000000   5.00000\n",
            "mean   70.000000  75.000000  72.20000\n",
            "std    15.811388  15.811388  10.20784\n",
            "min    50.000000  55.000000  58.00000\n",
            "25%    60.000000  65.000000  68.00000\n",
            "50%    70.000000  75.000000  72.00000\n",
            "75%    80.000000  85.000000  78.00000\n",
            "max    90.000000  95.000000  85.00000\n"
          ]
        }
      ]
    },
    {
      "cell_type": "markdown",
      "source": [
        "16. Plot a boxplot to understand the spread and identify outliers."
      ],
      "metadata": {
        "id": "8unLFV1IeXDu"
      }
    },
    {
      "cell_type": "code",
      "source": [
        "import pandas as pd\n",
        "import seaborn as sns\n",
        "import matplotlib.pyplot as plt\n",
        "\n",
        "# Sample dataset\n",
        "data = {\n",
        "    'Marks': [45, 47, 50, 52, 53, 54, 55, 60, 65, 70, 100]\n",
        "}\n",
        "df = pd.DataFrame(data)\n",
        "\n",
        "# Boxplot\n",
        "sns.boxplot(data=df, x='Marks')\n",
        "plt.title(\"Boxplot of Marks\")\n",
        "plt.show()\n"
      ],
      "metadata": {
        "colab": {
          "base_uri": "https://localhost:8080/",
          "height": 472
        },
        "id": "llBSNAt_eX9Q",
        "outputId": "ac380cc8-8329-48eb-db2a-243342ce5212"
      },
      "execution_count": 16,
      "outputs": [
        {
          "output_type": "display_data",
          "data": {
            "text/plain": [
              "<Figure size 640x480 with 1 Axes>"
            ],
            "image/png": "[encoded data removed]"
          },
          "metadata": {}
        }
      ]
    },
    {
      "cell_type": "markdown",
      "source": [
        "17. Calculate the interquartile range (IQR) of a dataset."
      ],
      "metadata": {
        "id": "Sf7CAFbmeYOn"
      }
    },
    {
      "cell_type": "code",
      "source": [
        "import numpy as np\n",
        "\n",
        "data = [45, 47, 50, 52, 53, 54, 55, 60, 65, 70, 100]\n",
        "\n",
        "Q1 = np.percentile(data, 25)\n",
        "Q3 = np.percentile(data, 75)\n",
        "IQR = Q3 - Q1\n",
        "\n",
        "print(\"Q1:\", Q1)\n",
        "print(\"Q3:\", Q3)\n",
        "print(\"IQR:\", IQR)\n",
        "\n"
      ],
      "metadata": {
        "colab": {
          "base_uri": "https://localhost:8080/"
        },
        "id": "QFByRx1HeZND",
        "outputId": "497ded33-663e-4e30-d331-5cbd0151d522"
      },
      "execution_count": 17,
      "outputs": [
        {
          "output_type": "stream",
          "name": "stdout",
          "text": [
            "Q1: 51.0\n",
            "Q3: 62.5\n",
            "IQR: 11.5\n"
          ]
        }
      ]
    },
    {
      "cell_type": "markdown",
      "source": [
        "18. Implement Z-score normalization and explain its significance."
      ],
      "metadata": {
        "id": "K0x3q0jgeZeQ"
      }
    },
    {
      "cell_type": "code",
      "source": [
        "import numpy as np\n",
        "\n",
        "def z_score_normalization(data):\n",
        "    mean = np.mean(data)\n",
        "    std = np.std(data)\n",
        "    return [(x - mean) / std for x in data]\n",
        "\n",
        "data = [10, 12, 14, 16, 18, 20]\n",
        "normalized_data = z_score_normalization(data)\n",
        "print(\"Z-score Normalized Data:\", normalized_data)\n"
      ],
      "metadata": {
        "colab": {
          "base_uri": "https://localhost:8080/"
        },
        "id": "_SVm1WLueaRI",
        "outputId": "fa9af837-8018-41ab-a9a5-5d60927e4df6"
      },
      "execution_count": 18,
      "outputs": [
        {
          "output_type": "stream",
          "name": "stdout",
          "text": [
            "Z-score Normalized Data: [np.float64(-1.4638501094227998), np.float64(-0.8783100656536799), np.float64(-0.29277002188455997), np.float64(0.29277002188455997), np.float64(0.8783100656536799), np.float64(1.4638501094227998)]\n"
          ]
        }
      ]
    },
    {
      "cell_type": "markdown",
      "source": [
        "19. Compare two datasets using their standard deviations."
      ],
      "metadata": {
        "id": "CasdR-dQeao6"
      }
    },
    {
      "cell_type": "code",
      "source": [
        "import numpy as np\n",
        "\n",
        "data1 = [12, 14, 16, 18, 20]\n",
        "data2 = [5, 10, 15, 20, 25]\n",
        "\n",
        "std1 = np.std(data1)\n",
        "std2 = np.std(data2)\n",
        "\n",
        "print(\"Standard Deviation of Dataset 1:\", std1)\n",
        "print(\"Standard Deviation of Dataset 2:\", std2)\n",
        "\n",
        "if std1 > std2:\n",
        "    print(\"Dataset 1 is more dispersed.\")\n",
        "elif std1 < std2:\n",
        "    print(\"Dataset 2 is more dispersed.\")\n",
        "else:\n",
        "    print(\"Both datasets have equal dispersion.\")\n"
      ],
      "metadata": {
        "colab": {
          "base_uri": "https://localhost:8080/"
        },
        "id": "oCOtrI4Keble",
        "outputId": "2d1f73b2-d927-486b-c59f-bf05d38979e5"
      },
      "execution_count": 19,
      "outputs": [
        {
          "output_type": "stream",
          "name": "stdout",
          "text": [
            "Standard Deviation of Dataset 1: 2.8284271247461903\n",
            "Standard Deviation of Dataset 2: 7.0710678118654755\n",
            "Dataset 2 is more dispersed.\n"
          ]
        }
      ]
    },
    {
      "cell_type": "markdown",
      "source": [
        "20. Write a Python program to visualize covariance using a heatmap."
      ],
      "metadata": {
        "id": "uZ64E0HFeb37"
      }
    },
    {
      "cell_type": "code",
      "source": [
        "import numpy as np\n",
        "import pandas as pd\n",
        "import seaborn as sns\n",
        "import matplotlib.pyplot as plt\n",
        "\n",
        "# Sample dataset\n",
        "data = {\n",
        "    'X': np.random.randint(10, 100, 50),\n",
        "    'Y': np.random.randint(20, 120, 50),\n",
        "    'Z': np.random.randint(5, 50, 50)\n",
        "}\n",
        "\n",
        "df = pd.DataFrame(data)\n",
        "\n",
        "# Covariance matrix\n",
        "cov_matrix = df.cov()\n",
        "\n",
        "# Heatmap\n",
        "sns.heatmap(cov_matrix, annot=True, cmap='coolwarm')\n",
        "plt.title(\"Covariance Heatmap\")\n",
        "plt.show()\n"
      ],
      "metadata": {
        "colab": {
          "base_uri": "https://localhost:8080/",
          "height": 452
        },
        "id": "P63IGAqgec7I",
        "outputId": "549e0aec-79de-4103-f894-f7cf5e4496be"
      },
      "execution_count": 20,
      "outputs": [
        {
          "output_type": "display_data",
          "data": {
            "text/plain": [
              "<Figure size 640x480 with 2 Axes>"
            ],
            "image/png": "[encoded data removed]"
          },
          "metadata": {}
        }
      ]
    },
    {
      "cell_type": "markdown",
      "source": [
        "21. Use seaborn to create a correlation matrix for a dataset."
      ],
      "metadata": {
        "id": "9GaWHOvFedO6"
      }
    },
    {
      "cell_type": "code",
      "source": [
        "import pandas as pd\n",
        "import numpy as np\n",
        "import seaborn as sns\n",
        "import matplotlib.pyplot as plt\n",
        "\n",
        "# Sample dataset\n",
        "data = {\n",
        "    'Math': np.random.randint(50, 100, 100),\n",
        "    'Science': np.random.randint(40, 95, 100),\n",
        "    'English': np.random.randint(60, 100, 100),\n",
        "    'History': np.random.randint(55, 90, 100)\n",
        "}\n",
        "\n",
        "df = pd.DataFrame(data)\n",
        "\n",
        "# Correlation matrix\n",
        "corr_matrix = df.corr()\n",
        "\n",
        "# Plot correlation matrix heatmap\n",
        "sns.heatmap(corr_matrix, annot=True, cmap='YlGnBu')\n",
        "plt.title('Correlation Matrix')\n",
        "plt.show()\n"
      ],
      "metadata": {
        "colab": {
          "base_uri": "https://localhost:8080/",
          "height": 452
        },
        "id": "u6xyeDrCeeIr",
        "outputId": "de0c9ee6-5299-4ada-8bd6-c5fe5381b080"
      },
      "execution_count": 21,
      "outputs": [
        {
          "output_type": "display_data",
          "data": {
            "text/plain": [
              "<Figure size 640x480 with 2 Axes>"
            ],
            "image/png": "[encoded data removed]"
          },
          "metadata": {}
        }
      ]
    },
    {
      "cell_type": "markdown",
      "source": [
        "22. Generate a dataset and implement both variance and standard deviation computations."
      ],
      "metadata": {
        "id": "ojdgiE1leecO"
      }
    },
    {
      "cell_type": "code",
      "source": [
        "import numpy as np\n",
        "\n",
        "# Generate a dataset\n",
        "data = np.random.randint(10, 100, 50)\n",
        "\n",
        "# Calculate variance\n",
        "variance = np.var(data, ddof=1)  # Sample variance\n",
        "print(\"Variance:\", variance)\n",
        "\n",
        "# Calculate standard deviation\n",
        "std_dev = np.std(data, ddof=1)  # Sample standard deviation\n",
        "print(\"Standard Deviation:\", std_dev)\n"
      ],
      "metadata": {
        "colab": {
          "base_uri": "https://localhost:8080/"
        },
        "id": "Ud4JyfcPefMs",
        "outputId": "051e27ef-c13e-4db2-9b4d-533880affa3d"
      },
      "execution_count": 22,
      "outputs": [
        {
          "output_type": "stream",
          "name": "stdout",
          "text": [
            "Variance: 630.989387755102\n",
            "Standard Deviation: 25.119502139873354\n"
          ]
        }
      ]
    },
    {
      "cell_type": "markdown",
      "source": [
        "23. Visualize skewness and kurtosis using Python libraries like matplotlib or seaborn."
      ],
      "metadata": {
        "id": "_FXXXg5mefiU"
      }
    },
    {
      "cell_type": "code",
      "source": [
        "import numpy as np\n",
        "import seaborn as sns\n",
        "import matplotlib.pyplot as plt\n",
        "from scipy.stats import skew, kurtosis\n",
        "\n",
        "# Generate dataset\n",
        "data = np.random.normal(loc=50, scale=10, size=1000)\n",
        "\n",
        "# Plot histogram and KDE\n",
        "sns.histplot(data, kde=True)\n",
        "plt.title(\"Skewness and Kurtosis Visualization\")\n",
        "plt.xlabel(\"Data Values\")\n",
        "plt.ylabel(\"Frequency\")\n",
        "plt.show()\n",
        "\n",
        "# Calculate skewness and kurtosis\n",
        "print(\"Skewness:\", skew(data))\n",
        "print(\"Kurtosis:\", kurtosis(data))  # Excess kurtosis\n"
      ],
      "metadata": {
        "colab": {
          "base_uri": "https://localhost:8080/",
          "height": 507
        },
        "id": "bjEQjF-regSb",
        "outputId": "4af38d47-57da-425c-b684-35fe867d4b6f"
      },
      "execution_count": 23,
      "outputs": [
        {
          "output_type": "display_data",
          "data": {
            "text/plain": [
              "<Figure size 640x480 with 1 Axes>"
            ],
            "image/png": "[encoded data removed]"
          },
          "metadata": {}
        },
        {
          "output_type": "stream",
          "name": "stdout",
          "text": [
            "Skewness: 0.06757040459599789\n",
            "Kurtosis: -0.23433827225236437\n"
          ]
        }
      ]
    },
    {
      "cell_type": "markdown",
      "source": [
        "24. Implement the Pearson and Spearman correlation coefficients for a dataset."
      ],
      "metadata": {
        "id": "yy71DOoSegoF"
      }
    },
    {
      "cell_type": "code",
      "source": [
        "import numpy as np\n",
        "from scipy.stats import pearsonr, spearmanr\n",
        "\n",
        "# Sample data\n",
        "x = np.array([10, 20, 30, 40, 50])\n",
        "y = np.array([12, 24, 33, 47, 55])\n",
        "\n",
        "# Pearson Correlation\n",
        "pearson_corr, _ = pearsonr(x, y)\n",
        "print(\"Pearson Correlation Coefficient:\", pearson_corr)\n",
        "\n",
        "# Spearman Correlation\n",
        "spearman_corr, _ = spearmanr(x, y)\n",
        "print(\"Spearman Correlation Coefficient:\", spearman_corr)\n"
      ],
      "metadata": {
        "colab": {
          "base_uri": "https://localhost:8080/"
        },
        "id": "ZNB4aRhoehvK",
        "outputId": "8352dc5c-2fcd-4d99-f141-d7403e0cd400"
      },
      "execution_count": 24,
      "outputs": [
        {
          "output_type": "stream",
          "name": "stdout",
          "text": [
            "Pearson Correlation Coefficient: 0.9971922417083549\n",
            "Spearman Correlation Coefficient: 0.9999999999999999\n"
          ]
        }
      ]
    }
  ]
}